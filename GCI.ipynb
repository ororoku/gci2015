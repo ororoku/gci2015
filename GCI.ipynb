{
 "metadata": {
  "name": "",
  "signature": "sha256:63b81ae2bf479d4dc551a4aa1e2ebc5fe0892c534d706316822d2dd6367a4078"
 },
 "nbformat": 3,
 "nbformat_minor": 0,
 "worksheets": [
  {
   "cells": [
    {
     "cell_type": "code",
     "collapsed": false,
     "input": [
      "#coding: utf8\n",
      "%matplotlib inline"
     ],
     "language": "python",
     "metadata": {},
     "outputs": [],
     "prompt_number": 35
    },
    {
     "cell_type": "code",
     "collapsed": false,
     "input": [
      "#http://gci.t.u-tokyo.ac.jp/tutorial/coding/\n",
      "# -\u8ab2\u984c1-\n",
      "\n",
      "#1900\u5e74\u304b\u30892200\u5e74\u307e\u3067\u306e\u3046\u308b\u3046\u5e74\u3092\u6559\u3048\u3066\u304f\u308c\u308b\u30d7\u30ed\u30b0\u30e9\u30e0\n",
      "#\u305f\u3060\u3057\u3001\u3046\u308b\u3046\u5e74\u306f\u4e0b\u8a18\u306e\u30eb\u30fc\u30eb\u3067\u6c7a\u5b9a\u3055\u308c\u308b\n",
      "\n",
      "#    \u897f\u66a6\u304c4\u3067\u5272\u308a\u5207\u308c\u308b\u5e74\u306f\u958f\u5e74\u3067\u3042\u308b\u3002\n",
      "#    \u305f\u3060\u3057\u3001100\u3067\u5272\u308a\u5207\u308c\u308b\u5e74\u306f\u958f\u5e74\u3067\u306f\u306a\u3044\u3002\n",
      "#    \u305f\u3060\u3057\u3001400\u3067\u5272\u308a\u5207\u308c\u308b\u5e74\u306f\u958f\u5e74\u3067\u3042\u308b\u3002\n",
      "\n",
      "year = 1900\n",
      "for i in range(0, 300):\n",
      "    year = 1900 + i\n",
      "    if year%4 == 0 and year%100 != 0:\n",
      "        print year,\n",
      "    elif year%400 == 0:\n",
      "        print year,"
     ],
     "language": "python",
     "metadata": {},
     "outputs": [
      {
       "output_type": "stream",
       "stream": "stdout",
       "text": [
        "1904 1908 1912 1916 1920 1924 1928 1932 1936 1940 1944 1948 1952 1956 1960 1964 1968 1972 1976 1980 1984 1988 1992 1996 2000 2004 2008 2012 2016 2020 2024 2028 2032 2036 2040 2044 2048 2052 2056 2060 2064 2068 2072 2076 2080 2084 2088 2092 2096 2104 2108 2112 2116 2120 2124 2128 2132 2136 2140 2144 2148 2152 2156 2160 2164 2168 2172 2176 2180 2184 2188 2192 2196\n"
       ]
      }
     ],
     "prompt_number": 36
    },
    {
     "cell_type": "code",
     "collapsed": false,
     "input": [
      "#\u8ab2\u984c2\n",
      "#\u4efb\u610f\u306e\u897f\u66a6\u5e74\u3092\u6e21\u3059\u3068\u3001\u3046\u308b\u3046\u5e74\u304b\u5426\u304b\u3092\u5224\u5b9a\u3057\u3066\u304f\u308c\u308b\u95a2\u6570\u3092\u5b9f\u88c5\u3057\u3066\u304f\u3060\u3055\u3044\u3002\n",
      "\n",
      "def judge(year):\n",
      "    judgement = False\n",
      "    if year%4 == 0 and year%100 != 0:\n",
      "        judgement = True\n",
      "    elif year%400 == 0:\n",
      "        judgement = True\n",
      "    return judgement\n",
      "\n",
      "#test\n",
      "judge(2015)"
     ],
     "language": "python",
     "metadata": {},
     "outputs": [
      {
       "metadata": {},
       "output_type": "pyout",
       "prompt_number": 37,
       "text": [
        "False"
       ]
      }
     ],
     "prompt_number": 37
    },
    {
     "cell_type": "code",
     "collapsed": false,
     "input": [
      "#\u8ab2\u984c3\n",
      "#\u3046\u308b\u3046\u5e74\u306b\u751f\u307e\u308c\u305f\u89b3\u5ba2\u306e\u5e73\u5747\u8a55\u4fa1\u70b9\u3068\u3001\u3046\u308b\u3046\u5e74\u4ee5\u5916\u306b\u751f\u307e\u308c\u305f\u89b3\u5ba2\u306e\u5e73\u5747\u8a55\u4fa1\u70b9\u3092\u6c42\u3081\u308b\u30d7\u30ed\u30b0\u30e9\u30e0\u3092\u66f8\u3044\u3066\u304f\u3060\u3055\u3044\u3002(\u5c0f\u6570\u70b9\u4ee5\u4e0b\u3082\u51fa\u529b\u3057\u3066\u304f\u3060\u3055\u3044\u3002)\n",
      "\n",
      "data = [\n",
      "    {\"name\": \"\u7530\u4e2d\u82b1\u5b50\", \"gender\": \"\u5973\u6027\", \"score\": 58},\n",
      "    {\"name\": \"\u9234\u6728\u4e00\u90ce\", \"gender\": \"\u7537\u6027\", \"score\": 76},\n",
      "    {\"name\": \"\u5c71\u7530\u592a\u90ce\", \"gender\": \"\u7537\u6027\", \"score\": 69},\n",
      "    {\"name\": \"\u4f50\u85e4\u6075\u5b50\", \"gender\": \"\u5973\u6027\", \"score\": 62},\n",
      "    {\"name\": \"\u77f3\u4e95\u3042\u3084\", \"gender\": \"\u5973\u6027\", \"score\": 71}\n",
      "]\n",
      "\n",
      "#\u304a\u7b11\u3044\u30a2\u30f3\u30b1\u30fc\u30c8\u3067\u89b3\u5ba2\u306e\u751f\u307e\u308c\u305f\u5e74\u3082\u805e\u3044\u3066\u307f\u305f\u7d50\u679c\u3001\u4ee5\u4e0b\u306e\u30c7\u30fc\u30bf\u304c\u96c6\u3081\u3089\u308c\u307e\u3057\u305f\u3002\n",
      "#\u540d\u524d \t\u8a95\u751f\u5e74\n",
      "#\u7530\u4e2d\u82b1\u5b50 \t1980\n",
      "#\u9234\u6728\u4e00\u90ce \t2000\n",
      "#\u5c71\u7530\u592a\u90ce \t1989\n",
      "#\u4f50\u85e4\u6075\u5b50 \t1992\n",
      "#\u77f3\u4e95\u3042\u3084 \t1978\n",
      "\n",
      "data[0][\"birthyear\"] = 1980\n",
      "data[1][\"birthyear\"] = 2000\n",
      "data[2][\"birthyear\"] = 1989\n",
      "data[3][\"birthyear\"] = 1992\n",
      "data[4][\"birthyear\"] = 1978\n",
      "\n",
      "def ave(x):\n",
      "    return 1.0 * sum(x) / len(x)"
     ],
     "language": "python",
     "metadata": {},
     "outputs": [],
     "prompt_number": 38
    },
    {
     "cell_type": "code",
     "collapsed": false,
     "input": [
      "#\u3046\u308b\u3046\u5e74\u306b\u751f\u307e\u308c\u305f\u89b3\u5ba2\u306e\u5e73\u5747\u8a55\u4fa1\u70b9\n",
      "scores = []\n",
      "for datum in data:\n",
      "    if judge(datum[\"birthyear\"]) == True:\n",
      "        scores.append(datum[\"score\"])\n",
      "print ave(scores)"
     ],
     "language": "python",
     "metadata": {},
     "outputs": [
      {
       "output_type": "stream",
       "stream": "stdout",
       "text": [
        "65.3333333333\n"
       ]
      }
     ],
     "prompt_number": 43
    },
    {
     "cell_type": "code",
     "collapsed": false,
     "input": [
      "#\u3046\u308b\u3046\u5e74\u4ee5\u5916\u306b\u751f\u307e\u308c\u305f\u89b3\u5ba2\u306e\u5e73\u5747\u8a55\u4fa1\u70b9\n",
      "scores = []\n",
      "for datum in data:\n",
      "    if judge(datum[\"birthyear\"]) == False:\n",
      "        scores.append(datum[\"score\"])\n",
      "print ave(scores)"
     ],
     "language": "python",
     "metadata": {},
     "outputs": [
      {
       "output_type": "stream",
       "stream": "stdout",
       "text": [
        "70.0\n"
       ]
      }
     ],
     "prompt_number": 44
    },
    {
     "cell_type": "code",
     "collapsed": false,
     "input": [],
     "language": "python",
     "metadata": {},
     "outputs": []
    }
   ],
   "metadata": {}
  }
 ]
}